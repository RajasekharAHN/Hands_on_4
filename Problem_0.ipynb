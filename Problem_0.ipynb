{
  "nbformat": 4,
  "nbformat_minor": 0,
  "metadata": {
    "colab": {
      "provenance": []
    },
    "kernelspec": {
      "name": "python3",
      "display_name": "Python 3"
    },
    "language_info": {
      "name": "python"
    }
  },
  "cells": [
    {
      "cell_type": "code",
      "execution_count": 1,
      "metadata": {
        "colab": {
          "base_uri": "https://localhost:8080/"
        },
        "id": "IyPapqTNdXwr",
        "outputId": "317fbba2-ac91-46e4-e0e4-9f0f7518d9a0"
      },
      "outputs": [
        {
          "output_type": "stream",
          "name": "stdout",
          "text": [
            "Enter any value to calculate Fibonacci sequence(n): 5\n",
            "fib(5) = 5\n"
          ]
        },
        {
          "output_type": "execute_result",
          "data": {
            "text/plain": [
              "5"
            ]
          },
          "metadata": {},
          "execution_count": 1
        }
      ],
      "source": [
        "def fib(n):\n",
        "    if n == 0:\n",
        "        return 0\n",
        "    if n == 1:\n",
        "        return 1\n",
        "    return fib(n-1) + fib(n-2)\n",
        "\n",
        "def debug_fib(n):\n",
        "    result = fib(n)\n",
        "    print(f\"fib({n}) = {result}\")\n",
        "    return result\n",
        "\n",
        "n = int(input(\"Enter any value to calculate Fibonacci sequence(n): \"))\n",
        "debug_fib(n)"
      ]
    },
    {
      "cell_type": "code",
      "source": [],
      "metadata": {
        "id": "S2dpFv-odb31"
      },
      "execution_count": null,
      "outputs": []
    }
  ]
}