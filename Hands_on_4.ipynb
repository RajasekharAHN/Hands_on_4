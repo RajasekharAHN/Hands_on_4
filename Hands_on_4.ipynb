{
  "nbformat": 4,
  "nbformat_minor": 0,
  "metadata": {
    "colab": {
      "provenance": []
    },
    "kernelspec": {
      "name": "python3",
      "display_name": "Python 3"
    },
    "language_info": {
      "name": "python"
    }
  },
  "cells": [
    {
      "cell_type": "markdown",
      "source": [
        "**Problem 0**"
      ],
      "metadata": {
        "id": "-mxFK2qWYzbg"
      }
    },
    {
      "cell_type": "code",
      "execution_count": null,
      "metadata": {
        "colab": {
          "base_uri": "https://localhost:8080/"
        },
        "id": "qtpAgy8uKOP9",
        "outputId": "0098dc24-4d3d-4af3-83ac-6bf1616baed5"
      },
      "outputs": [
        {
          "output_type": "stream",
          "name": "stdout",
          "text": [
            "Enter any value to calculate Fibonacci sequence(n): 6\n",
            "fib(6) = 8\n"
          ]
        },
        {
          "output_type": "execute_result",
          "data": {
            "text/plain": [
              "8"
            ]
          },
          "metadata": {},
          "execution_count": 6
        }
      ],
      "source": [
        "def fib(n):\n",
        "    if n == 0:\n",
        "        return 0\n",
        "    if n == 1:\n",
        "        return 1\n",
        "    return fib(n-1) + fib(n-2)\n",
        "\n",
        "def debug_fib(n):\n",
        "    result = fib(n)\n",
        "    print(f\"fib({n}) = {result}\")\n",
        "    return result\n",
        "\n",
        "n = int(input(\"Enter any value to calculate Fibonacci sequence(n): \"))\n",
        "debug_fib(n)\n"
      ]
    },
    {
      "cell_type": "markdown",
      "source": [
        "**Problem 1**"
      ],
      "metadata": {
        "id": "jNSqK1FUPb2h"
      }
    },
    {
      "cell_type": "code",
      "source": [
        "def merge_sorted_arrays(arrays):\n",
        "    result = []\n",
        "    index = [0] * len(arrays)\n",
        "\n",
        "    while True:\n",
        "        min_value = None\n",
        "        min_index = None\n",
        "\n",
        "        for i, arr in enumerate(arrays):\n",
        "            if index[i] < len(arr):\n",
        "                if min_value is None or arr[index[i]] < min_value:\n",
        "                    min_value = arr[index[i]]\n",
        "                    min_index = i\n",
        "\n",
        "        if min_value is None:\n",
        "            break\n",
        "\n",
        "        result.append(min_value)\n",
        "        index[min_index] += 1\n",
        "\n",
        "    return result\n",
        "\n",
        "K = int(input(\"Enter the number of arrays (K): \"))\n",
        "N = int(input(\"Enter the size of each array (N): \"))\n",
        "\n",
        "arrays = []\n",
        "for i in range(K):\n",
        "    array = list(map(int, input(f\"Enter elements for array {i + 1}: \").split()))\n",
        "    arrays.append(array)\n",
        "\n",
        "merged_array = merge_sorted_arrays(arrays)\n",
        "print(\"Merged sorted array:\", merged_array)"
      ],
      "metadata": {
        "colab": {
          "base_uri": "https://localhost:8080/"
        },
        "id": "XzdFRN-4Kh7Z",
        "outputId": "d064ac37-642a-442a-9da4-bc1d8fc55bf9"
      },
      "execution_count": null,
      "outputs": [
        {
          "output_type": "stream",
          "name": "stdout",
          "text": [
            "Enter the number of arrays (K): 3\n",
            "Enter the size of each array (N): 4\n",
            "Enter elements for array 1: 1 3 5 7 \n",
            "Enter elements for array 2: 2 4 6 8\n",
            "Enter elements for array 3: 0 9 10 11\n",
            "Merged sorted array: [0, 1, 2, 3, 4, 5, 6, 7, 8, 9, 10, 11]\n"
          ]
        }
      ]
    },
    {
      "cell_type": "markdown",
      "source": [
        "**Problem 2**"
      ],
      "metadata": {
        "id": "Mx62wXjWWUMI"
      }
    },
    {
      "cell_type": "code",
      "source": [
        "def remove_duplicates(array):\n",
        "    if not array:\n",
        "        return []\n",
        "\n",
        "    result = [array[0]]\n",
        "\n",
        "    for i in range(1, len(array)):\n",
        "        if array[i] != array[i - 1]:\n",
        "            result.append(array[i])\n",
        "    return result\n",
        "\n",
        "input_string = input(\"Enter the original array: \")\n",
        "sub_strings = input_string.split()\n",
        "integers = map(int, sub_strings)\n",
        "original_array = list(integers)\n",
        "\n",
        "sorted_array = sorted(original_array)\n",
        "\n",
        "result = remove_duplicates(sorted_array)\n",
        "\n",
        "print(\"Original array:\", original_array)\n",
        "print(\"Sorted array:\", sorted_array)\n",
        "print(\"Array without duplicates:\", result)"
      ],
      "metadata": {
        "colab": {
          "base_uri": "https://localhost:8080/"
        },
        "id": "mkzhtpSaTsBX",
        "outputId": "18d0f986-fdfe-43e5-ac18-a93d681e3d60"
      },
      "execution_count": null,
      "outputs": [
        {
          "output_type": "stream",
          "name": "stdout",
          "text": [
            "Enter the original array: 1 2 3 3 3 3 2 2 1 5 6 7 7 7 4 5 6\n",
            "Original array: [1, 2, 3, 3, 3, 3, 2, 2, 1, 5, 6, 7, 7, 7, 4, 5, 6]\n",
            "Sorted array: [1, 1, 2, 2, 2, 3, 3, 3, 3, 4, 5, 5, 6, 6, 7, 7, 7]\n",
            "Array without duplicates: [1, 2, 3, 4, 5, 6, 7]\n"
          ]
        }
      ]
    }
  ]
}